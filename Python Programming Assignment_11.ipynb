{
 "cells": [
  {
   "cell_type": "raw",
   "metadata": {},
   "source": [
    "1.\tWrite a Python program to find words which are greater than given length k?"
   ]
  },
  {
   "cell_type": "code",
   "execution_count": null,
   "metadata": {},
   "outputs": [],
   "source": [
    "def greater_word(string,k):\n",
    "    text = string.split(\" \")\n",
    "    word = []\n",
    "    for x in text:\n",
    "        if len(x)>k:\n",
    "            word.append(x)\n",
    "    print(word)\n",
    "string = \"Hello this is greater one\"\n",
    "k = int(input())\n",
    "greater_word(string,k)\n"
   ]
  },
  {
   "cell_type": "raw",
   "metadata": {},
   "source": [
    "2.\tWrite a Python program for removing i-th character from a string?"
   ]
  },
  {
   "cell_type": "code",
   "execution_count": null,
   "metadata": {},
   "outputs": [],
   "source": [
    "str1 = \"Hello this is greater one\"\n",
    "i = int(input())\n",
    "new_str = str1[:i:]+str1[i+1::]\n",
    "print(new_str)\n",
    "\n",
    "    "
   ]
  },
  {
   "cell_type": "raw",
   "metadata": {},
   "source": [
    "3.\tWrite a Python program to split and join a string?"
   ]
  },
  {
   "cell_type": "code",
   "execution_count": null,
   "metadata": {},
   "outputs": [],
   "source": [
    "str1 = \"Hello this is greater one\"\n",
    "str2 = str1.split(\" \")\n",
    "new_str = '-'.join(str2)\n",
    "print(new_str)"
   ]
  },
  {
   "cell_type": "raw",
   "metadata": {},
   "source": [
    "4.\tWrite a Python to check if a given string is binary string or not?"
   ]
  },
  {
   "cell_type": "code",
   "execution_count": null,
   "metadata": {},
   "outputs": [],
   "source": [
    "def Binary_string(string):\n",
    "    p = set(string)\n",
    "    s = {'0','1'}\n",
    "    if p == s or p == {'0'} or p == {'1'}:\n",
    "        print(\"Yes\")\n",
    "    else:\n",
    "        print(\"no\")\n",
    "string = input()\n",
    "Binary_string(string)"
   ]
  },
  {
   "cell_type": "raw",
   "metadata": {},
   "source": [
    "5.\tWrite a Python program to find uncommon words from two Strings?"
   ]
  },
  {
   "cell_type": "code",
   "execution_count": 1,
   "metadata": {},
   "outputs": [
    {
     "name": "stdout",
     "output_type": "stream",
     "text": [
      " fruits hello Banana apple\n"
     ]
    }
   ],
   "source": [
    "def Uncommon(str1,str2):\n",
    "    z = str1.split(\" \")\n",
    "    y = str2.split(\" \")\n",
    "    new1 = ''\n",
    "    for i in z:\n",
    "        if i not in y:\n",
    "            new1 = new1+\" \"+i\n",
    "    for j in y:\n",
    "        if j not in z:\n",
    "            new1 = new1+\" \"+j\n",
    "    return new1        \n",
    "str1 = \"fruits mango hello\"\n",
    "str2 = \"Banana mango apple\"\n",
    "print(Uncommon(str1,str2))"
   ]
  },
  {
   "cell_type": "raw",
   "metadata": {},
   "source": [
    "6.\tWrite a Python to find all duplicate characters in string?"
   ]
  },
  {
   "cell_type": "code",
   "execution_count": 25,
   "metadata": {},
   "outputs": [
    {
     "name": "stdout",
     "output_type": "stream",
     "text": [
      "l\n",
      "o\n"
     ]
    }
   ],
   "source": [
    "string = \"Hello World\"  \n",
    "for i in range(0, len(string)):  \n",
    "    count = 1\n",
    "    for j in range(i+1, len(string)):  \n",
    "        if(string[i] == string[j] and string[i] != ' '):  \n",
    "            count = count + 1  \n",
    "            string = string[:j] + '0' + string[j+1:]  \n",
    "    if(count > 1 and string[i] != '0'): \n",
    "        print(string[i])"
   ]
  },
  {
   "cell_type": "raw",
   "metadata": {},
   "source": [
    "7.\tWrite a Python Program to check if a string contains any special character?"
   ]
  },
  {
   "cell_type": "code",
   "execution_count": 29,
   "metadata": {},
   "outputs": [
    {
     "name": "stdout",
     "output_type": "stream",
     "text": [
      "string has special Chracter:-  Hello Thi$ @s best\n"
     ]
    }
   ],
   "source": [
    "import re\n",
    "def check(string):\n",
    "    regex = re.compile('!@#$%^&*()_+=}{><?:~`;:')\n",
    "    if regex.search == None:\n",
    "        print(\"String has no special charachter:- \",string)\n",
    "    else:\n",
    "        print(\"string has special Chracter:- \",string)\n",
    "string = \"Hello Thi$ @s best\"\n",
    "check(string)"
   ]
  },
  {
   "cell_type": "code",
   "execution_count": null,
   "metadata": {},
   "outputs": [],
   "source": []
  }
 ],
 "metadata": {
  "kernelspec": {
   "display_name": "Python 3",
   "language": "python",
   "name": "python3"
  },
  "language_info": {
   "codemirror_mode": {
    "name": "ipython",
    "version": 3
   },
   "file_extension": ".py",
   "mimetype": "text/x-python",
   "name": "python",
   "nbconvert_exporter": "python",
   "pygments_lexer": "ipython3",
   "version": "3.7.4"
  }
 },
 "nbformat": 4,
 "nbformat_minor": 2
}
