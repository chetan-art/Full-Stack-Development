{
 "cells": [
  {
   "cell_type": "raw",
   "metadata": {},
   "source": [
    "1.\tWrite a Python Program to Add Two Matrices?"
   ]
  },
  {
   "cell_type": "code",
   "execution_count": 1,
   "metadata": {},
   "outputs": [
    {
     "name": "stdout",
     "output_type": "stream",
     "text": [
      "[10, 13, 12]\n",
      "[8, 8, 11]\n",
      "[9, 9, 12]\n"
     ]
    }
   ],
   "source": [
    "x = [\n",
    "    [2,4,5],\n",
    "    [3,4,5],\n",
    "    [8,7,9]\n",
    "    ]\n",
    "y = [\n",
    "    [8,9,7],\n",
    "    [5,4,6],\n",
    "    [1,2,3]\n",
    "]\n",
    "result = [\n",
    "    [0,0,0],\n",
    "    [0,0,0],\n",
    "    [0,0,0]\n",
    "]\n",
    "for i in range(len(x)):\n",
    "    for j in range(len(x[0])):\n",
    "        result[i][j] = x[i][j] + y[i][j]\n",
    "for i in result:\n",
    "    print(i)"
   ]
  },
  {
   "cell_type": "raw",
   "metadata": {},
   "source": [
    "2.\tWrite a Python Program to Multiply Two Matrices?"
   ]
  },
  {
   "cell_type": "code",
   "execution_count": 1,
   "metadata": {},
   "outputs": [
    {
     "name": "stdout",
     "output_type": "stream",
     "text": [
      "[16, 36, 35]\n",
      "[15, 16, 30]\n",
      "[8, 14, 27]\n"
     ]
    }
   ],
   "source": [
    "x = [\n",
    "    [2,4,5],\n",
    "    [3,4,5],\n",
    "    [8,7,9]\n",
    "    ]\n",
    "y = [\n",
    "    [8,9,7],\n",
    "    [5,4,6],\n",
    "    [1,2,3]\n",
    "]\n",
    "result = [\n",
    "    [0,0,0],\n",
    "    [0,0,0],\n",
    "    [0,0,0]\n",
    "]\n",
    "for i in range(len(x)):\n",
    "    for j in range(len(x[0])):\n",
    "        result[i][j] = x[i][j]*y[i][j]\n",
    "for i in result:\n",
    "    print(i)"
   ]
  },
  {
   "cell_type": "raw",
   "metadata": {},
   "source": [
    "3.\tWrite a Python Program to Transpose a Matrix?"
   ]
  },
  {
   "cell_type": "code",
   "execution_count": 17,
   "metadata": {},
   "outputs": [
    {
     "name": "stdout",
     "output_type": "stream",
     "text": [
      "[2, 3, 8, 4]\n",
      "[4, 4, 7, 7]\n",
      "[5, 5, 9, 9]\n"
     ]
    }
   ],
   "source": [
    "x = [\n",
    "    [2,4,5],\n",
    "    [3,4,5],\n",
    "    [8,7,9],\n",
    "    [4,7,9]\n",
    "    ]\n",
    "result = [\n",
    "    [0,0,0,0],\n",
    "    [0,0,0,0],\n",
    "    [0,0,0,0]\n",
    "]\n",
    "for i in range(len(x)):\n",
    "    for j in range(len(x[0])):\n",
    "        result[j][i] = x[i][j]\n",
    "for i in result:\n",
    "    print(i)"
   ]
  },
  {
   "cell_type": "raw",
   "metadata": {},
   "source": [
    "4.\tWrite a Python Program to Sort Words in Alphabetic Order?"
   ]
  },
  {
   "cell_type": "code",
   "execution_count": 29,
   "metadata": {},
   "outputs": [
    {
     "name": "stdout",
     "output_type": "stream",
     "text": [
      "an example hello is letters sort this with "
     ]
    }
   ],
   "source": [
    "X = \"Hello this Is an Example With sort letters\"\n",
    "words = [word.lower() for word in X.split()]\n",
    "words.sort()\n",
    "for word in words:\n",
    "    print(word, end = \" \")\n",
    "\n"
   ]
  },
  {
   "cell_type": "raw",
   "metadata": {},
   "source": [
    "5.\tWrite a Python Program to Remove Punctuation From a String?"
   ]
  },
  {
   "cell_type": "code",
   "execution_count": 38,
   "metadata": {},
   "outputs": [
    {
     "name": "stdout",
     "output_type": "stream",
     "text": [
      "Hello Thi \n"
     ]
    }
   ],
   "source": [
    "def Remove_Punctuation(string):\n",
    "    punctuation = \"!,@,#,$,%,^,&,*,(,),_,-,=,~,`,[,],{,},;,:,',',,,,<,>,.,?,/,|,\\,\"\n",
    "    for i in string:\n",
    "        if i in punctuation:\n",
    "            string = string.replace(i,\"\")\n",
    "    print(string)       \n",
    "string = \"Hello@ Thi$ &^$$#\"\n",
    "Remove_Punctuation(string)"
   ]
  },
  {
   "cell_type": "code",
   "execution_count": null,
   "metadata": {},
   "outputs": [],
   "source": []
  }
 ],
 "metadata": {
  "kernelspec": {
   "display_name": "Python 3",
   "language": "python",
   "name": "python3"
  },
  "language_info": {
   "codemirror_mode": {
    "name": "ipython",
    "version": 3
   },
   "file_extension": ".py",
   "mimetype": "text/x-python",
   "name": "python",
   "nbconvert_exporter": "python",
   "pygments_lexer": "ipython3",
   "version": "3.7.4"
  }
 },
 "nbformat": 4,
 "nbformat_minor": 2
}
