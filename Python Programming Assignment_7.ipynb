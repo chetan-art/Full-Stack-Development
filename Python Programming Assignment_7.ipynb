{
 "cells": [
  {
   "cell_type": "raw",
   "metadata": {},
   "source": [
    "1.\tWrite a Python Program to find sum of array?"
   ]
  },
  {
   "cell_type": "code",
   "execution_count": 7,
   "metadata": {},
   "outputs": [
    {
     "data": {
      "text/plain": [
       "29"
      ]
     },
     "execution_count": 7,
     "metadata": {},
     "output_type": "execute_result"
    }
   ],
   "source": [
    "def Sum_array(n):\n",
    "    sum = 0\n",
    "    for i in n:\n",
    "        sum =sum+i\n",
    "    return sum\n",
    "n = [5,7,8,9]   \n",
    "Sum_array(n)"
   ]
  },
  {
   "cell_type": "raw",
   "metadata": {},
   "source": [
    "2.\tWrite a Python Program to find largest element in an array?"
   ]
  },
  {
   "cell_type": "code",
   "execution_count": 9,
   "metadata": {},
   "outputs": [
    {
     "data": {
      "text/plain": [
       "10"
      ]
     },
     "execution_count": 9,
     "metadata": {},
     "output_type": "execute_result"
    }
   ],
   "source": [
    "def Element_large(n):\n",
    "    max = n[0]\n",
    "    for i in range(0,len(n)):\n",
    "        if n[i]>max:\n",
    "            max = n[i]\n",
    "    return max        \n",
    "\n",
    "n = [2,7,10,5,2]\n",
    "Element_large(n)"
   ]
  },
  {
   "cell_type": "raw",
   "metadata": {},
   "source": [
    "3.\tWrite a Python Program for array rotation?"
   ]
  },
  {
   "cell_type": "code",
   "execution_count": 15,
   "metadata": {},
   "outputs": [
    {
     "data": {
      "text/plain": [
       "[4, 5, 6, 7, 8, 9, 1, 2, 3]"
      ]
     },
     "execution_count": 15,
     "metadata": {},
     "output_type": "execute_result"
    }
   ],
   "source": [
    "def Rotate_Array(arr,n,d):\n",
    "    arr= arr[d:n]+arr[0:d]\n",
    "    return arr\n",
    "arr = [1,2,3,4,5,6,7,8,9]\n",
    "Rotate_Array(arr,len(arr),3)"
   ]
  },
  {
   "cell_type": "raw",
   "metadata": {},
   "source": [
    "4.\tWrite a Python Program to Split the array and add the first part to the end?"
   ]
  },
  {
   "cell_type": "code",
   "execution_count": 40,
   "metadata": {},
   "outputs": [
    {
     "name": "stdout",
     "output_type": "stream",
     "text": [
      "6 52 36 12 10 5 "
     ]
    }
   ],
   "source": [
    "def split_Arr(arr,n,k):\n",
    "    for i in range(0,k):\n",
    "        x = arr[0]\n",
    "        for j in range(0,n-1):\n",
    "            arr[j] = arr[j+1]\n",
    "        arr[n-1] = x\n",
    "    for i in range(0,n):\n",
    "        print(arr[i], end = \" \")\n",
    "arr = [12,10,5,6,52,36]\n",
    "n = len(arr)\n",
    "k = 3\n",
    "split_Arr(arr,n,k)\n"
   ]
  },
  {
   "cell_type": "raw",
   "metadata": {},
   "source": [
    "5.\tWrite a Python Program to check if given array is Monotonic?"
   ]
  },
  {
   "cell_type": "code",
   "execution_count": 47,
   "metadata": {},
   "outputs": [
    {
     "data": {
      "text/plain": [
       "False"
      ]
     },
     "execution_count": 47,
     "metadata": {},
     "output_type": "execute_result"
    }
   ],
   "source": [
    "def Ismonotonic(N):\n",
    "    return (all (N[i]>= N[i+1] for i in range(0,len(N)-1)) or \n",
    "            all (N[i]<= N[i+1] for i in range(0,len(N)-1)))\n",
    "N = [1,2,8,4,5,6]\n",
    "Ismonotonic(N)"
   ]
  },
  {
   "cell_type": "code",
   "execution_count": null,
   "metadata": {},
   "outputs": [],
   "source": []
  }
 ],
 "metadata": {
  "kernelspec": {
   "display_name": "Python 3",
   "language": "python",
   "name": "python3"
  },
  "language_info": {
   "codemirror_mode": {
    "name": "ipython",
    "version": 3
   },
   "file_extension": ".py",
   "mimetype": "text/x-python",
   "name": "python",
   "nbconvert_exporter": "python",
   "pygments_lexer": "ipython3",
   "version": "3.7.4"
  }
 },
 "nbformat": 4,
 "nbformat_minor": 2
}
