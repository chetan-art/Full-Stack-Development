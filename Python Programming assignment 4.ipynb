{
 "cells": [
  {
   "cell_type": "raw",
   "metadata": {},
   "source": [
    "1.\tWrite a Python Program to Find the Factorial of a Number?"
   ]
  },
  {
   "cell_type": "code",
   "execution_count": null,
   "metadata": {},
   "outputs": [],
   "source": [
    "x = int(input())\n",
    "z = 1\n",
    "if x < 0:\n",
    "    print(\"The factorial is not available\")\n",
    "elif x == 0:\n",
    "    print(\"the factorial is 1\")\n",
    "else:\n",
    "    for i in range(1,x+1):\n",
    "        z = z*i\n",
    "    print(\"the factorial is \",z)    "
   ]
  },
  {
   "cell_type": "raw",
   "metadata": {},
   "source": [
    "2.\tWrite a Python Program to Display the multiplication Table?"
   ]
  },
  {
   "cell_type": "code",
   "execution_count": null,
   "metadata": {},
   "outputs": [],
   "source": [
    "x = int(input(\"The table of \"))\n",
    "for i in range(1,11):\n",
    "    z = x*i\n",
    "    print(x,\"x\",i,\"=\",z)    "
   ]
  },
  {
   "cell_type": "raw",
   "metadata": {},
   "source": [
    "3.\tWrite a Python Program to Print the Fibonacci sequence?"
   ]
  },
  {
   "cell_type": "code",
   "execution_count": null,
   "metadata": {},
   "outputs": [],
   "source": [
    "x = int(input(\"the number is \"))\n",
    "n1,n2 = 0,1\n",
    "count = 0\n",
    "if x<=0:\n",
    "    print(\"enter positive number\")\n",
    "elif x==1:\n",
    "    print(n1)\n",
    "else:\n",
    "    while count<x:\n",
    "        print(n1)\n",
    "        z = n1+n2\n",
    "        n1=n2\n",
    "        n2=z\n",
    "        count+=1"
   ]
  },
  {
   "cell_type": "raw",
   "metadata": {},
   "source": [
    "4.\tWrite a Python Program to Check Armstrong Number?"
   ]
  },
  {
   "cell_type": "code",
   "execution_count": null,
   "metadata": {},
   "outputs": [],
   "source": [
    "x = int(input())\n",
    "sum =0\n",
    "temp = x\n",
    "\n",
    "while temp > 0:\n",
    "    digit = temp%10\n",
    "    sum+= digit**3\n",
    "    temp //= 10\n",
    "if x == sum:\n",
    "    print(x,\"is Armstrong Number\")\n",
    "else:\n",
    "    print(x,\"is not a Armstrong Number\")\n",
    "    "
   ]
  },
  {
   "cell_type": "raw",
   "metadata": {},
   "source": [
    "5.\tWrite a Python Program to Find Armstrong Number in an Interval?"
   ]
  },
  {
   "cell_type": "code",
   "execution_count": 1,
   "metadata": {},
   "outputs": [
    {
     "name": "stdout",
     "output_type": "stream",
     "text": [
      "900\n",
      "153\n",
      "370\n",
      "371\n",
      "407\n"
     ]
    }
   ],
   "source": [
    "lower = 100\n",
    "upper = int(input())\n",
    "\n",
    "for i in range(lower,upper+1):\n",
    "    order = len(str(i))\n",
    "    sum = 0\n",
    "    temp = i\n",
    "    while temp>0:\n",
    "        digit = temp%10\n",
    "        sum+= digit**3\n",
    "        temp //= 10\n",
    "    if i == sum:\n",
    "        print(i)\n",
    "        "
   ]
  },
  {
   "cell_type": "raw",
   "metadata": {},
   "source": [
    "6.\tWrite a Python Program to Find the Sum of Natural Numbers?"
   ]
  },
  {
   "cell_type": "code",
   "execution_count": 3,
   "metadata": {},
   "outputs": [
    {
     "name": "stdout",
     "output_type": "stream",
     "text": [
      "5\n",
      "the sum of the number is  15\n"
     ]
    }
   ],
   "source": [
    "num = int(input())\n",
    "if num<=0:\n",
    "    print(\"Enter the positive number\")\n",
    "else:\n",
    "    sum = 0\n",
    "    while (num>0):\n",
    "        sum += num\n",
    "        num -= 1\n",
    "    print(\"the sum of the number is \",sum)    "
   ]
  },
  {
   "cell_type": "code",
   "execution_count": null,
   "metadata": {},
   "outputs": [],
   "source": []
  }
 ],
 "metadata": {
  "kernelspec": {
   "display_name": "Python 3",
   "language": "python",
   "name": "python3"
  },
  "language_info": {
   "codemirror_mode": {
    "name": "ipython",
    "version": 3
   },
   "file_extension": ".py",
   "mimetype": "text/x-python",
   "name": "python",
   "nbconvert_exporter": "python",
   "pygments_lexer": "ipython3",
   "version": "3.7.4"
  }
 },
 "nbformat": 4,
 "nbformat_minor": 2
}
