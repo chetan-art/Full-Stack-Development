{
 "cells": [
  {
   "cell_type": "raw",
   "metadata": {},
   "source": [
    "1.\tWrite a Python program to check if the given number is a Disarium Number?"
   ]
  },
  {
   "cell_type": "code",
   "execution_count": 1,
   "metadata": {},
   "outputs": [
    {
     "name": "stdout",
     "output_type": "stream",
     "text": [
      "Enter a value5\n",
      "5 is a disarium number\n"
     ]
    }
   ],
   "source": [
    "def calculateLength(n):    \n",
    "    length = 0\n",
    "    while(n != 0):    \n",
    "        length = length + 1    \n",
    "        n = n//10    \n",
    "    return length\n",
    "     \n",
    "num = int(input(\"Enter a value\"))   \n",
    "rem = sum = 0\n",
    "len = calculateLength(num)    \n",
    "n = num\n",
    "while(num > 0):    \n",
    "    rem = num%10\n",
    "    sum = sum + int(rem**len)    \n",
    "    num = num//10    \n",
    "    len = len - 1\n",
    "if(sum == n):    \n",
    "    print(str(n) + \" is a disarium number\") \n",
    "else:    \n",
    "    print(str(n) + \" is not a disarium number\")   "
   ]
  },
  {
   "cell_type": "raw",
   "metadata": {},
   "source": [
    "2.\tWrite a Python program to print all disarium numbers between 1 to 100?"
   ]
  },
  {
   "cell_type": "code",
   "execution_count": 8,
   "metadata": {},
   "outputs": [
    {
     "name": "stdout",
     "output_type": "stream",
     "text": [
      "1 2 3 4 5 6 7 8 9 89 "
     ]
    }
   ],
   "source": [
    "def calculateLength(n):    \n",
    "    length = 0\n",
    "    while(n != 0):    \n",
    "        length = length + 1    \n",
    "        n = n//10    \n",
    "    return length    \n",
    "for num in range(1,101):\n",
    "    rem = sum = 0\n",
    "    len = calculateLength(num)    \n",
    "    n = num\n",
    "    while(num > 0):    \n",
    "        rem = num%10 \n",
    "        sum = sum + int(rem**len)    \n",
    "        num = num//10    \n",
    "        len = len - 1    \n",
    "    if(sum == n):    \n",
    "        print(str(n),end = \" \")"
   ]
  },
  {
   "cell_type": "raw",
   "metadata": {},
   "source": [
    "3.\tWrite a Python program to check if the given number is Happy Number?"
   ]
  },
  {
   "cell_type": "code",
   "execution_count": 3,
   "metadata": {},
   "outputs": [
    {
     "name": "stdout",
     "output_type": "stream",
     "text": [
      "32\n",
      "32 is a happy number\n"
     ]
    }
   ],
   "source": [
    "def isHappyNumber(num):    \n",
    "    rem = sum = 0    \n",
    "    while(num > 0):    \n",
    "        rem = num%10 \n",
    "        sum = sum + (rem*rem)    \n",
    "        num = num//10    \n",
    "    return sum    \n",
    "num = int(input())    \n",
    "result = num\n",
    "while(result != 1 and result != 4):    \n",
    "    result = isHappyNumber(result)\n",
    "if(result == 1):    \n",
    "    print(str(num) + \" is a happy number\") \n",
    "elif(result == 4):    \n",
    "    print(str(num) + \" is not a happy number\")\n"
   ]
  },
  {
   "cell_type": "raw",
   "metadata": {},
   "source": [
    "4.\tWrite a Python program to print all happy numbers between 1 and 100?"
   ]
  },
  {
   "cell_type": "code",
   "execution_count": 7,
   "metadata": {},
   "outputs": [
    {
     "name": "stdout",
     "output_type": "stream",
     "text": [
      "1 7 10 13 19 23 28 31 32 44 49 68 70 79 82 86 91 94 97 100 "
     ]
    }
   ],
   "source": [
    "def Happy_number(num):\n",
    "    rem = sum = 0\n",
    "    while(num > 0):    \n",
    "        rem = num%10    \n",
    "        sum = sum + int(rem*rem)   \n",
    "        num = num//10\n",
    "    return sum\n",
    "for i in range(1,101):    \n",
    "    num = i\n",
    "    result = num\n",
    "    while(result!=1)and(result!=4):\n",
    "        result = Happy_number(result)\n",
    "\n",
    "    if(result == 1):    \n",
    "        print(i,end=\" \")\n"
   ]
  },
  {
   "cell_type": "raw",
   "metadata": {},
   "source": [
    "5.\tWrite a Python program to determine whether the given number is a Harshad Number?"
   ]
  },
  {
   "cell_type": "code",
   "execution_count": 5,
   "metadata": {},
   "outputs": [
    {
     "name": "stdout",
     "output_type": "stream",
     "text": [
      "Enter a value :- 15\n",
      "15 is not a Harshad number\n"
     ]
    }
   ],
   "source": [
    "num = int(input(\"Enter a value :- \"))\n",
    "rem = sum = 0\n",
    "n = num\n",
    "while(num > 0):    \n",
    "    rem = num%10    \n",
    "    sum = sum + rem    \n",
    "    num = num//10       \n",
    "if(n%sum == 0):    \n",
    "    print(str(n) + \" is a Harshad number\")    \n",
    "else:    \n",
    "    print(str(n) + \" is not a Harshad number\")    "
   ]
  },
  {
   "cell_type": "raw",
   "metadata": {},
   "source": [
    "6.\tWrite a Python program to print all pronic numbers between 1 and 100?"
   ]
  },
  {
   "cell_type": "code",
   "execution_count": 9,
   "metadata": {},
   "outputs": [
    {
     "name": "stdout",
     "output_type": "stream",
     "text": [
      "2 6 12 20 30 42 56 72 90 "
     ]
    }
   ],
   "source": [
    "for j in range(1,101):  \n",
    "    for i in range(1,j):\n",
    "        if j%i == 0:\n",
    "            if i*(i+1) == j:\n",
    "                print(j,end = \" \")"
   ]
  },
  {
   "cell_type": "code",
   "execution_count": null,
   "metadata": {},
   "outputs": [],
   "source": []
  },
  {
   "cell_type": "code",
   "execution_count": null,
   "metadata": {},
   "outputs": [],
   "source": []
  }
 ],
 "metadata": {
  "kernelspec": {
   "display_name": "Python 3",
   "language": "python",
   "name": "python3"
  },
  "language_info": {
   "codemirror_mode": {
    "name": "ipython",
    "version": 3
   },
   "file_extension": ".py",
   "mimetype": "text/x-python",
   "name": "python",
   "nbconvert_exporter": "python",
   "pygments_lexer": "ipython3",
   "version": "3.7.4"
  }
 },
 "nbformat": 4,
 "nbformat_minor": 2
}
