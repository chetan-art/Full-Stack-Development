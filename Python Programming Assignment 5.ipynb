{
 "cells": [
  {
   "cell_type": "raw",
   "metadata": {},
   "source": [
    "1.\tWrite a Python Program to Find LCM?"
   ]
  },
  {
   "cell_type": "code",
   "execution_count": 4,
   "metadata": {},
   "outputs": [
    {
     "name": "stdout",
     "output_type": "stream",
     "text": [
      "24\n",
      "36\n",
      "The LCM is  72\n"
     ]
    }
   ],
   "source": [
    "def LCM(x,y):\n",
    "    if x>y:\n",
    "        greater = x\n",
    "    else:\n",
    "        greater = y\n",
    "    value = greater    \n",
    "    while True:\n",
    "        if greater % x==0 and greater % y ==0 :\n",
    "            print(\"The LCM is \",greater)\n",
    "            break\n",
    "        else:\n",
    "            greater = greater+value\n",
    "x = int(input())\n",
    "y = int(input())\n",
    "LCM(x,y)"
   ]
  },
  {
   "cell_type": "raw",
   "metadata": {},
   "source": [
    "2.\tWrite a Python Program to Find HCF?"
   ]
  },
  {
   "cell_type": "code",
   "execution_count": 2,
   "metadata": {},
   "outputs": [
    {
     "name": "stdout",
     "output_type": "stream",
     "text": [
      "2\n",
      "4\n",
      "2\n"
     ]
    }
   ],
   "source": [
    "x = int(input())\n",
    "y = int(input())\n",
    "if x>y:\n",
    "    smaller = y\n",
    "else:\n",
    "    smaller = x\n",
    "for i in range(1,smaller+1):\n",
    "    if((x%i ==0) and (y%i ==0)):\n",
    "        HCF = i\n",
    "print(HCF)       \n",
    "        "
   ]
  },
  {
   "cell_type": "raw",
   "metadata": {},
   "source": [
    "3.\tWrite a Python Program to Convert Decimal to Binary, Octal and Hexadecimal?"
   ]
  },
  {
   "cell_type": "code",
   "execution_count": 8,
   "metadata": {},
   "outputs": [
    {
     "name": "stdout",
     "output_type": "stream",
     "text": [
      "26\n",
      "0b11010 is a decimal to binary\n",
      "0o32 is a decimal to Octal\n",
      "0x1a is a decimal to Hexadecimal\n"
     ]
    }
   ],
   "source": [
    "x = int(input())\n",
    "print(bin(x), \"is a decimal to binary\")\n",
    "print(oct(x), \"is a decimal to Octal\")\n",
    "print(hex(x),\"is a decimal to Hexadecimal\")"
   ]
  },
  {
   "cell_type": "raw",
   "metadata": {},
   "source": [
    "4.\tWrite a Python Program To Find ASCII value of a character?"
   ]
  },
  {
   "cell_type": "code",
   "execution_count": 11,
   "metadata": {},
   "outputs": [
    {
     "name": "stdout",
     "output_type": "stream",
     "text": [
      "A\n",
      "65\n"
     ]
    }
   ],
   "source": [
    "x = input()\n",
    "y = ord(x)\n",
    "print(y)"
   ]
  },
  {
   "cell_type": "raw",
   "metadata": {},
   "source": [
    "5.\tWrite a Python Program to Make a Simple Calculator with 4 basic mathematical operations?"
   ]
  },
  {
   "cell_type": "code",
   "execution_count": 17,
   "metadata": {},
   "outputs": [
    {
     "name": "stdout",
     "output_type": "stream",
     "text": [
      "Select Operations\n",
      "1,Add\n",
      "2,Sub\n",
      "3,Mul\n",
      "4,Div\n",
      "You select the no: - 1\n",
      "enter first number :- 5\n",
      "enter second number :- 5\n",
      "Your result is :-  5 + 5 = 10\n"
     ]
    }
   ],
   "source": [
    "def add(x,y):\n",
    "    return x+y\n",
    "def sub(x,y):\n",
    "    return x-y\n",
    "def mul(x,y):\n",
    "    return(x*y)\n",
    "def div(x,y):\n",
    "    return(x/y)\n",
    "\n",
    "print(\"Select Operations\")\n",
    "print(\"1,Add\")\n",
    "print(\"2,Sub\")\n",
    "print(\"3,Mul\")\n",
    "print(\"4,Div\")\n",
    "\n",
    "while True:\n",
    "    choice = input(\"You select the no: - \" )\n",
    "    if choice in (\"1\",\"2\",\"3\",\"4\"):\n",
    "        x = int(input(\"enter first number :- \"))\n",
    "        y = int(input(\"enter second number :- \"))\n",
    "        if choice == \"1\":\n",
    "            print(\"Your result is :- \",x,\"+\",y,\"=\",add(x,y))\n",
    "        elif choice == \"2\":\n",
    "            print(\"Your result is :- \",x,\"-\",y,\"=\",sub(x,y))\n",
    "        elif choice == \"3\":\n",
    "            print(\"Your result is :- \",x,\"*\",y,\"=\",mul(x,y))\n",
    "        elif choice == \"4\":\n",
    "            print(\"Your result is :- \",x,\"/\",y,\"=\",div(x,y))\n",
    "        break\n",
    "    else:\n",
    "        print(\"invalid Integer\")"
   ]
  },
  {
   "cell_type": "code",
   "execution_count": null,
   "metadata": {},
   "outputs": [],
   "source": []
  }
 ],
 "metadata": {
  "kernelspec": {
   "display_name": "Python 3",
   "language": "python",
   "name": "python3"
  },
  "language_info": {
   "codemirror_mode": {
    "name": "ipython",
    "version": 3
   },
   "file_extension": ".py",
   "mimetype": "text/x-python",
   "name": "python",
   "nbconvert_exporter": "python",
   "pygments_lexer": "ipython3",
   "version": "3.7.4"
  }
 },
 "nbformat": 4,
 "nbformat_minor": 2
}
