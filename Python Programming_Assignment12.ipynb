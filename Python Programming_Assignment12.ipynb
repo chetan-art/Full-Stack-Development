{
 "cells": [
  {
   "cell_type": "raw",
   "metadata": {},
   "source": [
    "1.\tWrite a Python program to Extract Unique values dictionary values?"
   ]
  },
  {
   "cell_type": "code",
   "execution_count": 4,
   "metadata": {},
   "outputs": [
    {
     "name": "stdout",
     "output_type": "stream",
     "text": [
      "2020\n"
     ]
    }
   ],
   "source": [
    "x = {\n",
    "    'brand' : 'Audi',\n",
    "    'Model' : 'Audi A-80',\n",
    "    'Year'  : 2020\n",
    " }\n",
    "print(x['Year'])"
   ]
  },
  {
   "cell_type": "raw",
   "metadata": {},
   "source": [
    "2.\tWrite a Python program to find the sum of all items in a dictionary?"
   ]
  },
  {
   "cell_type": "code",
   "execution_count": 6,
   "metadata": {},
   "outputs": [
    {
     "name": "stdout",
     "output_type": "stream",
     "text": [
      "180\n"
     ]
    }
   ],
   "source": [
    "x = {'x':50,'y':60,'z':70}\n",
    "sum = 0\n",
    "for i in x:\n",
    "    sum = sum+x[i]\n",
    "print(sum)"
   ]
  },
  {
   "cell_type": "raw",
   "metadata": {},
   "source": [
    "3.\tWrite a Python program to Merging two Dictionaries?"
   ]
  },
  {
   "cell_type": "code",
   "execution_count": 8,
   "metadata": {},
   "outputs": [
    {
     "name": "stdout",
     "output_type": "stream",
     "text": [
      "{'d': 6, 'c': 4, 'a': 10, 'b': 8}\n"
     ]
    }
   ],
   "source": [
    "dict1 = {'a': 10, 'b': 8}\n",
    "dict2 = {'d': 6, 'c': 4}\n",
    "dict2.update(dict1)\n",
    "print(dict2)"
   ]
  },
  {
   "cell_type": "raw",
   "metadata": {},
   "source": [
    "4.\tWrite a Python program to convert key-values list to flat dictionary?"
   ]
  },
  {
   "cell_type": "code",
   "execution_count": 10,
   "metadata": {},
   "outputs": [
    {
     "name": "stdout",
     "output_type": "stream",
     "text": [
      "{1: 'Sam', 2: 'Ruby', 3: 'Sudh'}\n"
     ]
    }
   ],
   "source": [
    "test_dict = {\n",
    "             'Roll_no' : [1, 2, 3],\n",
    "             'name' : ['Sam', 'Ruby', 'Sudh']\n",
    "            }\n",
    "\n",
    "new_dict = dict(zip(test_dict['Roll_no'],test_dict['name']))\n",
    "\n",
    "print(new_dict)"
   ]
  },
  {
   "cell_type": "raw",
   "metadata": {},
   "source": [
    "5.\tWrite a Python program to insertion at the beginning in OrderedDict?"
   ]
  },
  {
   "cell_type": "code",
   "execution_count": 22,
   "metadata": {},
   "outputs": [
    {
     "name": "stdout",
     "output_type": "stream",
     "text": [
      "OrderedDict([('Kusum', '4568'), ('Aman', '1562'), ('Suresh', '1789')])\n"
     ]
    }
   ],
   "source": [
    "from collections import OrderedDict\n",
    "od = OrderedDict([('Aman','1562'),('Suresh','1789')])\n",
    "od.update({'Kusum':'4568'})\n",
    "od.move_to_end('Kusum',last=False)\n",
    "print(str(od))"
   ]
  },
  {
   "cell_type": "raw",
   "metadata": {},
   "source": [
    "6.\tWrite a Python program to check order of character in string using OrderedDict()?"
   ]
  },
  {
   "cell_type": "code",
   "execution_count": 10,
   "metadata": {},
   "outputs": [
    {
     "name": "stdout",
     "output_type": "stream",
     "text": [
      "The string is \n",
      "This is iNeuron\n",
      "The input pattern is \n",
      "no\n",
      "The order of pattern is incorrect\n"
     ]
    }
   ],
   "source": [
    "from collections import OrderedDict\n",
    "def check_order(my_input, my_pattern):\n",
    "    \n",
    "    my_dict = OrderedDict.fromkeys(my_input)\n",
    "    pattern_length = 0\n",
    "    for key,value in my_dict.items():\n",
    "        if (key == my_pattern[pattern_length]):\n",
    "                 pattern_length = pattern_length + 1\n",
    "        if (pattern_length == (len(my_pattern))):\n",
    "            return 'The order of pattern is correct'          \n",
    "\n",
    "    return 'The order of pattern is incorrect'\n",
    "my_input = 'This is iNeuron'\n",
    "input_pattern = 'no'\n",
    "print(\"The string is \")\n",
    "print(my_input)\n",
    "print(\"The input pattern is \")\n",
    "print(input_pattern)\n",
    "print(check_order(my_input,input_pattern))"
   ]
  },
  {
   "cell_type": "raw",
   "metadata": {},
   "source": [
    "7.\tWrite a Python program to sort Python Dictionaries by Key or Value?"
   ]
  },
  {
   "cell_type": "code",
   "execution_count": 14,
   "metadata": {},
   "outputs": [
    {
     "name": "stdout",
     "output_type": "stream",
     "text": [
      "1 2 3 4 5 6 "
     ]
    }
   ],
   "source": [
    "def dictionairy():\n",
    "    \n",
    "    key_value = {}\n",
    "\n",
    "    key_value[2] = 56\n",
    "    key_value[1] = 2\n",
    "    key_value[5] = 12\n",
    "    key_value[4] = 24\n",
    "    key_value[6] = 18\n",
    "    key_value[3] = 323\n",
    "    for i in sorted (key_value.keys()) :\n",
    "        print(i, end = \" \")\n",
    "dictionairy()\n"
   ]
  },
  {
   "cell_type": "code",
   "execution_count": null,
   "metadata": {},
   "outputs": [],
   "source": []
  }
 ],
 "metadata": {
  "kernelspec": {
   "display_name": "Python 3",
   "language": "python",
   "name": "python3"
  },
  "language_info": {
   "codemirror_mode": {
    "name": "ipython",
    "version": 3
   },
   "file_extension": ".py",
   "mimetype": "text/x-python",
   "name": "python",
   "nbconvert_exporter": "python",
   "pygments_lexer": "ipython3",
   "version": "3.7.4"
  }
 },
 "nbformat": 4,
 "nbformat_minor": 2
}
